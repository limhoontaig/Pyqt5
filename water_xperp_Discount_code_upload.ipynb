{
 "cells": [
  {
   "cell_type": "markdown",
   "metadata": {},
   "source": [
    "# 필요 Module import"
   ]
  },
  {
   "cell_type": "code",
   "execution_count": 1,
   "metadata": {
    "ExecuteTime": {
     "end_time": "2021-03-22T21:32:27.370094Z",
     "start_time": "2021-03-22T21:32:04.113443Z"
    }
   },
   "outputs": [],
   "source": [
    "import pandas as pd\n",
    "import os\n",
    "import numpy as np\n",
    "import tkinter\n",
    "from tkinter import filedialog\n",
    "from datetime import datetime"
   ]
  },
  {
   "cell_type": "markdown",
   "metadata": {},
   "source": [
    "# 종합 할인금액 입력"
   ]
  },
  {
   "cell_type": "code",
   "execution_count": 2,
   "metadata": {
    "ExecuteTime": {
     "end_time": "2021-03-22T21:32:27.402080Z",
     "start_time": "2021-03-22T21:32:27.379038Z"
    }
   },
   "outputs": [],
   "source": [
    "def fileselection(file_title):\n",
    "    root = tkinter.Tk()\n",
    "    root.withdraw()\n",
    "    file_title= file_title\n",
    "    #dir_path = os.getcwd()\n",
    "    dir_path = 'D:/과장/1 부과자료/2021년'\n",
    "    # dir_path = filedialog.askdirectory(parent=root,initialdir=\"/\",title='Please select a directory')\n",
    "    file_path = filedialog.askopenfilename(parent=root,initialdir=dir_path,\n",
    "                                           title = file_title)\n",
    "    return file_path"
   ]
  },
  {
   "cell_type": "markdown",
   "metadata": {},
   "source": [
    "# 수도 다자녀 할인 파일 열기"
   ]
  },
  {
   "cell_type": "code",
   "execution_count": 3,
   "metadata": {
    "ExecuteTime": {
     "end_time": "2021-03-22T21:34:08.563940Z",
     "start_time": "2021-03-22T21:33:45.248346Z"
    }
   },
   "outputs": [],
   "source": [
    "file_path = fileselection('Please select a file of 수도 다자녀할인')"
   ]
  },
  {
   "cell_type": "code",
   "execution_count": 4,
   "metadata": {},
   "outputs": [],
   "source": [
    "df = pd.read_excel(file_path,sheet_name=0, skiprows=0)\n",
    "\n",
    "#df['동'] = df['동호수(복지개별)'].parse('-', 0)\n",
    "# new list of data frame with split value columns\n",
    "new = df['동호수(복지개별)'].str.split(\"-\", n = 1, expand = True)\n",
    "  \n",
    "# making separate first name column from new data frame\n",
    "df[\"동\"]= new[0]\n",
    "  \n",
    "# making separate last name column from new data frame\n",
    "df[\"호\"]= new[1]\n",
    "  \n",
    "# Dropping old Name columns\n",
    "df.drop(columns =[\"No\",\"동호수(복지개별)\"], inplace = True)\n",
    "\n",
    "# making 복지코드 on '복지코드' column from XPERP Code\n",
    "df[\"복지코드\"]= '3'\n",
    "  \n",
    "# df display\n",
    "# df.head()"
   ]
  },
  {
   "cell_type": "code",
   "execution_count": 5,
   "metadata": {},
   "outputs": [],
   "source": [
    "### XPERP Code 유공자: 2, 기초생활:3, 다자녀:I(Capital i), 중복할인: V(Capital v)  ###\n",
    "\n",
    "# 다자녀 시트 읽어오기\n",
    "df_f = pd.read_excel(file_path, sheet_name=1,skiprows=0)\n",
    "\n",
    "# new data frame with split value columns\n",
    "new = df_f['동호수(다자녀감면)'].str.split(\"-\", n = 1, expand = True)\n",
    "  \n",
    "# making separate 동 name column from new data frame\n",
    "df_f[\"동\"]= new[0]\n",
    "  \n",
    "# making separate 호 name column from new data frame\n",
    "df_f[\"호\"]= new[1]\n",
    "\n",
    "# making 복지코드 on '복지코드' column from XPERP Code\n",
    "df_f[\"복지코드\"]= 'I' # Capital I\n",
    "  \n",
    "# Dropping old Name columns\n",
    "df_f.drop(columns =[\"No\",\"동호수(다자녀감면)\"], inplace = True)\n",
    "  \n",
    "# df_f.head()"
   ]
  },
  {
   "cell_type": "markdown",
   "metadata": {},
   "source": [
    "# 수도 유공자할인 등록 "
   ]
  },
  {
   "cell_type": "code",
   "execution_count": 6,
   "metadata": {},
   "outputs": [],
   "source": [
    "file_path = fileselection('Please select a file of 수도 유공자할인')"
   ]
  },
  {
   "cell_type": "code",
   "execution_count": 7,
   "metadata": {},
   "outputs": [],
   "source": [
    "df_3 = pd.read_excel(file_path, sheet_name=0, skiprows=5)\n",
    "# new data frame with split value columns\n",
    "new = df_3['동호수'].str.split(\"-\", n = 1, expand = True)\n",
    "# making separate first name column from new data frame\n",
    "df_3[\"동\"]= new[0]\n",
    "# making separate last name column from new data frame\n",
    "df_3[\"호\"]= new[1]\n",
    "# Dropping old Name columns\n",
    "df_3.drop(columns =[\"No\",\"고객번호\",\"수전주소\",\"동호수\"], inplace = True)\n",
    "# making 복지코드 on '복지코드' column from XPERP Code\n",
    "df_3[\"복지코드\"]= '2'"
   ]
  },
  {
   "cell_type": "code",
   "execution_count": 8,
   "metadata": {
    "scrolled": true
   },
   "outputs": [],
   "source": [
    "dis = pd.merge(df, df_f, how = 'outer', on = ['동','호'])\n",
    "dis1 = pd.merge(dis, df_3, how = 'outer', on = ['동','호'])"
   ]
  },
  {
   "cell_type": "code",
   "execution_count": 9,
   "metadata": {},
   "outputs": [],
   "source": [
    "#discount_1.fillna(0)\n",
    "con1 = (dis1.복지코드_x=='3')\n",
    "con2 = (dis1.복지코드_y=='I')\n",
    "con3 = (dis1.복지코드=='2')\n",
    "dis1.loc[con1, 'Code'] = '3'\n",
    "dis1.loc[con2, 'Code'] = 'I'\n",
    "dis1.loc[con3, 'Code'] = '2'\n",
    "dis1.loc[(con1 & con2)|(con1&con3)|(con2&con3)|(con1&con2&con3), 'Code'] = 'V'\n",
    "dis2 = dis1[['동','호','Code']]"
   ]
  },
  {
   "cell_type": "code",
   "execution_count": 10,
   "metadata": {},
   "outputs": [
    {
     "name": "stderr",
     "output_type": "stream",
     "text": [
      "<ipython-input-10-34cc6fdd5358>:1: SettingWithCopyWarning: \n",
      "A value is trying to be set on a copy of a slice from a DataFrame.\n",
      "Try using .loc[row_indexer,col_indexer] = value instead\n",
      "\n",
      "See the caveats in the documentation: https://pandas.pydata.org/pandas-docs/stable/user_guide/indexing.html#returning-a-view-versus-a-copy\n",
      "  dis2['동'] = pd.to_numeric(dis2['동'])\n",
      "<ipython-input-10-34cc6fdd5358>:2: SettingWithCopyWarning: \n",
      "A value is trying to be set on a copy of a slice from a DataFrame.\n",
      "Try using .loc[row_indexer,col_indexer] = value instead\n",
      "\n",
      "See the caveats in the documentation: https://pandas.pydata.org/pandas-docs/stable/user_guide/indexing.html#returning-a-view-versus-a-copy\n",
      "  dis2['호'] = pd.to_numeric(dis2['호'])\n"
     ]
    }
   ],
   "source": [
    "dis2['동'] = pd.to_numeric(dis2['동'])\n",
    "dis2['호'] = pd.to_numeric(dis2['호'])\n"
   ]
  },
  {
   "cell_type": "markdown",
   "metadata": {},
   "source": [
    "# 복지종류별 입력하기"
   ]
  },
  {
   "cell_type": "markdown",
   "metadata": {},
   "source": [
    "# Template dataframe 작성\n"
   ]
  },
  {
   "cell_type": "code",
   "execution_count": 11,
   "metadata": {
    "ExecuteTime": {
     "end_time": "2021-03-22T22:13:03.949241Z",
     "start_time": "2021-03-22T22:12:49.736101Z"
    }
   },
   "outputs": [],
   "source": [
    "file_path = fileselection('Please open a Template File')\n",
    "df_x = pd.read_excel(file_path,skiprows=0)"
   ]
  },
  {
   "cell_type": "code",
   "execution_count": 12,
   "metadata": {
    "ExecuteTime": {
     "end_time": "2021-03-22T22:14:31.974009Z",
     "start_time": "2021-03-22T22:14:31.766954Z"
    },
    "scrolled": true
   },
   "outputs": [],
   "source": [
    "# discount df 생성 (Template df(df_x)에 감면코드(discount) merge\n",
    "discount = pd.merge(df_x, dis2, how = 'outer', on = ['동','호'])\n",
    "# 감면구분 코드를 Code Data로 Update\n",
    "discount['감면구분'] = discount['Code']\n",
    "# Code 임시데이터 columns를 drop\n",
    "discount = discount.drop(['Code'],axis=1)"
   ]
  },
  {
   "cell_type": "markdown",
   "metadata": {},
   "source": [
    "# File save location selection and data 생성"
   ]
  },
  {
   "cell_type": "code",
   "execution_count": 13,
   "metadata": {},
   "outputs": [],
   "source": [
    "root = tkinter.Tk()\n",
    "root.withdraw()\n",
    "file_title= \"Please select a directory to save a file\"\n",
    "dir_path = 'D:\\\\과장\\\\1 1 부과자료\\\\2021년'\n",
    "dir_path = filedialog.askdirectory(parent=root,initialdir=dir_path,title=file_title)"
   ]
  },
  {
   "cell_type": "code",
   "execution_count": 14,
   "metadata": {
    "ExecuteTime": {
     "end_time": "2021-03-22T22:15:19.323131Z",
     "start_time": "2021-03-22T22:15:18.127157Z"
    }
   },
   "outputs": [],
   "source": [
    "#작업월을 파일이름에 넣기 위한 코드 (작업일 기준)\n",
    "now = datetime.now()\n",
    "dt1 = now.strftime(\"%Y\")+now.strftime(\"%m\")\n",
    "dt1 = dt1+'XPERP_Water_Upload.xls'\n",
    "#file save\n",
    "discount.to_excel(dir_path + '/' + dt1,index=False,header=False)"
   ]
  },
  {
   "cell_type": "code",
   "execution_count": null,
   "metadata": {},
   "outputs": [],
   "source": []
  }
 ],
 "metadata": {
  "kernelspec": {
   "display_name": "Python 3",
   "language": "python",
   "name": "python3"
  },
  "language_info": {
   "codemirror_mode": {
    "name": "ipython",
    "version": 3
   },
   "file_extension": ".py",
   "mimetype": "text/x-python",
   "name": "python",
   "nbconvert_exporter": "python",
   "pygments_lexer": "ipython3",
   "version": "3.8.5"
  },
  "toc": {
   "base_numbering": 1,
   "nav_menu": {},
   "number_sections": true,
   "sideBar": true,
   "skip_h1_title": false,
   "title_cell": "Table of Contents",
   "title_sidebar": "Contents",
   "toc_cell": false,
   "toc_position": {},
   "toc_section_display": true,
   "toc_window_display": false
  }
 },
 "nbformat": 4,
 "nbformat_minor": 4
}
