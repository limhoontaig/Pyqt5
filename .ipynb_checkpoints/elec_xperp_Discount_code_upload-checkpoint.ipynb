{
 "cells": [
  {
   "cell_type": "markdown",
   "metadata": {},
   "source": [
    "# 필요한 Module Import"
   ]
  },
  {
   "cell_type": "code",
   "execution_count": 1,
   "metadata": {
    "ExecuteTime": {
     "end_time": "2021-03-22T21:32:27.370094Z",
     "start_time": "2021-03-22T21:32:04.113443Z"
    }
   },
   "outputs": [],
   "source": [
    "import pandas as pd\n",
    "import os\n",
    "import numpy as np\n",
    "import tkinter\n",
    "from tkinter import filedialog\n",
    "from datetime import datetime"
   ]
  },
  {
   "cell_type": "markdown",
   "metadata": {},
   "source": [
    "# 종합 할인금액 입력"
   ]
  },
  {
   "cell_type": "code",
   "execution_count": 2,
   "metadata": {
    "ExecuteTime": {
     "end_time": "2021-03-22T21:32:27.402080Z",
     "start_time": "2021-03-22T21:32:27.379038Z"
    }
   },
   "outputs": [],
   "source": [
    "def fileselection(file_title):\n",
    "    root = tkinter.Tk()\n",
    "    root.withdraw()\n",
    "    file_title= file_title\n",
    "    dir_path = 'D:/과장/1 부과자료/2021년'\n",
    "    file_path = filedialog.askopenfilename(parent=root,initialdir=dir_path,\n",
    "                                           title = file_title)\n",
    "    return file_path"
   ]
  },
  {
   "cell_type": "code",
   "execution_count": 3,
   "metadata": {
    "ExecuteTime": {
     "end_time": "2021-03-22T21:34:08.563940Z",
     "start_time": "2021-03-22T21:33:45.248346Z"
    }
   },
   "outputs": [],
   "source": [
    "file_path = fileselection('Please select a file of 한전 종합복지할인액')\n",
    "df = pd.read_excel(file_path,skiprows=2)#, dtype={'동':int, '호':int}) #,thousands=',')"
   ]
  },
  {
   "cell_type": "code",
   "execution_count": 12,
   "metadata": {
    "ExecuteTime": {
     "end_time": "2021-03-22T21:34:29.875702Z",
     "start_time": "2021-03-22T21:34:29.398686Z"
    }
   },
   "outputs": [],
   "source": [
    "df1 = df.dropna(subset=['동'])\n",
    "# Template Columns중에서 필수 Columns만 복사하여 DataFrame 생성용 Columns list 생성\n",
    "df2col =['동','호', '필수사용\\n공제', '할인\\n구분','복지할인']\n",
    "# df2 DataFrame columns중에서 dtype float를 int로 바꿀 Columns list 생성\n",
    "df2col_f =['동','호', '필수사용\\n공제', '복지할인']"
   ]
  },
  {
   "cell_type": "code",
   "execution_count": 10,
   "metadata": {
    "ExecuteTime": {
     "end_time": "2021-03-22T21:34:32.734501Z",
     "start_time": "2021-03-22T21:34:32.663491Z"
    }
   },
   "outputs": [],
   "source": [
    "# SettingWithCopyWarning Error 방지를 위하여 copy() method적용\n",
    "df2 = df1[df2col].copy()\n",
    "df2[df2col_f] = df2[df2col_f].astype('int')"
   ]
  },
  {
   "cell_type": "markdown",
   "metadata": {},
   "source": [
    "# 복지종류별 입력하기"
   ]
  },
  {
   "cell_type": "code",
   "execution_count": 8,
   "metadata": {
    "ExecuteTime": {
     "end_time": "2021-03-22T21:37:18.421535Z",
     "start_time": "2021-03-22T21:37:09.926059Z"
    }
   },
   "outputs": [],
   "source": [
    "file_path = fileselection('Please select a file of 한전 세대별 복지할인 종류 및 금액')\n",
    "df_w = pd.read_excel(file_path,skiprows=2, thousands=',')#, dtype={'동':int, '호':int}) #,thousands=',')\n",
    "df_w = df_w[['동','호','복지구분','할인요금']]"
   ]
  },
  {
   "cell_type": "code",
   "execution_count": 11,
   "metadata": {
    "ExecuteTime": {
     "end_time": "2021-03-22T22:09:38.958592Z",
     "start_time": "2021-03-22T22:09:38.895597Z"
    }
   },
   "outputs": [],
   "source": [
    "# 복지구분 컬럼을 선택합니다.\n",
    "# 컬럼의 값에 대가족할인 항목을 또는(|) 대가족할인 항목늬 문자열이 포함되어있는지 판단합니다.\n",
    "# 그 결과를 새로운 변수에 할당합니다.\n",
    "contains_family = df_w['복지구분'].str.contains('다자녀할인|대가족할인|출산가구할인')\n",
    "\n",
    "# 대가족할인 조건를 충족하는 데이터를 필터링하여 새로운 변수에 저장합니다.\n",
    "subset_df_f = df_w[contains_family].copy()\n",
    "subset_df_f.set_index(['동','호'],inplace=True)\n",
    "#subset_df_f['복지코드'] = subset_df_f['복지구분']\n",
    "subset_df_f.loc[subset_df_f.복지구분 == '다자녀할인', '복지코드'] = '3'\n",
    "subset_df_f.loc[subset_df_f.복지구분 == '대가족할인', '복지코드'] = '1'\n",
    "subset_df_f.loc[subset_df_f.복지구분 == '출산가구할인', '복지코드'] = '2'\n",
    "\n",
    "# 복지할인 조건를 충족(대가족할인이 아닌것 ~)하는 데이터를 필터링하여 새로운 변수에 저장합니다.\n",
    "subset_df_w = df_w[~contains_family].copy()\n",
    "subset_df_w.set_index(['동','호'],inplace=True)\n",
    "subset_df_w.loc[subset_df_w.복지구분 == '기초생활할인', '복지코드'] = 'G'\n",
    "subset_df_w.loc[subset_df_w.복지구분 == '독립유공자할인', '복지코드'] = 'A'\n",
    "subset_df_w.loc[subset_df_w.복지구분 == '사회복지할인', '복지코드'] = 'G'\n",
    "subset_df_w.loc[subset_df_w.복지구분 == '의료기기할인', '복지코드'] = 'G'\n",
    "subset_df_w.loc[subset_df_w.복지구분 == '장애인할인', '복지코드'] = 'D'\n",
    "subset_df_w.loc[subset_df_w.복지구분 == '차상위할인', '복지코드'] = 'I'"
   ]
  },
  {
   "cell_type": "markdown",
   "metadata": {},
   "source": [
    "# Open Template file for XPERP upload and data 작성"
   ]
  },
  {
   "cell_type": "code",
   "execution_count": 10,
   "metadata": {
    "ExecuteTime": {
     "end_time": "2021-03-22T22:13:03.949241Z",
     "start_time": "2021-03-22T22:12:49.736101Z"
    }
   },
   "outputs": [],
   "source": [
    "file_path = fileselection('Please open a Template File')\n",
    "df_x = pd.read_excel(file_path,skiprows=0)\n",
    "# xperp upload template 양식의 columns list 생성\n",
    "df_x_cl = df_x.columns.tolist()\n",
    "# 동호를 indexing하여 dataFrame merge 준비\n",
    "df_x.set_index(['동','호'],inplace=True)"
   ]
  },
  {
   "cell_type": "code",
   "execution_count": 11,
   "metadata": {
    "ExecuteTime": {
     "end_time": "2021-03-22T22:14:31.974009Z",
     "start_time": "2021-03-22T22:14:31.766954Z"
    },
    "scrolled": true
   },
   "outputs": [],
   "source": [
    "# discount df 생성 (Template df(df_x)에 필수사용공제(df2) merge\n",
    "discount = pd.merge(df_x, df2, how = 'outer', on = ['동','호'])\n",
    "# 사용량 보장공제를 한전금액(필수사용\\n공제) Data로 Update\n",
    "discount['사용량보장공제'] = discount['필수사용\\n공제']\n",
    "# 사용량 보장공제 임시데이터 columns를 drop\n",
    "discount = discount.drop(['필수사용\\n공제','할인\\n구분','복지할인'],axis=1)"
   ]
  },
  {
   "cell_type": "code",
   "execution_count": 12,
   "metadata": {
    "ExecuteTime": {
     "end_time": "2021-03-22T22:14:50.207871Z",
     "start_time": "2021-03-22T22:14:50.174845Z"
    },
    "scrolled": true
   },
   "outputs": [],
   "source": [
    "# Template df에 필수사용공제 merge\n",
    "discount = pd.merge(discount, subset_df_f, how = 'outer', on = ['동','호'])\n",
    "discount['대가족할인액'] = discount['할인요금']\n",
    "discount['대가족할인구분'] = discount['복지코드']\n",
    "discount = discount.drop(['복지코드','할인요금','복지구분'],axis=1)"
   ]
  },
  {
   "cell_type": "code",
   "execution_count": 13,
   "metadata": {
    "ExecuteTime": {
     "end_time": "2021-03-22T22:14:51.727794Z",
     "start_time": "2021-03-22T22:14:51.693750Z"
    },
    "scrolled": true
   },
   "outputs": [],
   "source": [
    "discount = pd.merge(discount, subset_df_w, how = 'outer', on = ['동','호'])\n",
    "#discount1 = discount.reset_index()\n",
    "discount['복지할인액'] = discount['할인요금']\n",
    "discount['복지할인구분'] = discount['복지코드']\n",
    "discount = discount.drop(['복지코드','할인요금','복지구분'],axis=1)\n",
    "#discount.to_excel('복지할인.xlsx')\n",
    "#discount.head(1)"
   ]
  },
  {
   "cell_type": "markdown",
   "metadata": {},
   "source": [
    "# Final Data Save location selection and Save"
   ]
  },
  {
   "cell_type": "code",
   "execution_count": 14,
   "metadata": {},
   "outputs": [],
   "source": [
    "root = tkinter.Tk()\n",
    "root.withdraw()\n",
    "file_title= \"Please select a directory to save a file\"\n",
    "#dir_path = os.getcwd()\n",
    "dir_path = 'D:\\\\과장\\\\1 1 부과자료\\\\2021년'\n",
    "cwd = os.getcwd()\n",
    "dir_path = filedialog.askdirectory(parent=root,initialdir=dir_path,title=file_title)"
   ]
  },
  {
   "cell_type": "code",
   "execution_count": 15,
   "metadata": {
    "ExecuteTime": {
     "end_time": "2021-03-22T22:15:19.323131Z",
     "start_time": "2021-03-22T22:15:18.127157Z"
    }
   },
   "outputs": [],
   "source": [
    "#작업월을 파일이름에 넣기 위한 코드 (작업일 기준)\n",
    "now = datetime.now()\n",
    "dt1 = now.strftime(\"%Y\")+now.strftime(\"%m\")\n",
    "dt1 = dt1+'ELEC_XPERP_Upload.xls'\n",
    "#file save\n",
    "discount.to_excel(dir_path + '/' + dt1,index=False,header=False)"
   ]
  },
  {
   "cell_type": "code",
   "execution_count": null,
   "metadata": {},
   "outputs": [],
   "source": []
  }
 ],
 "metadata": {
  "kernelspec": {
   "display_name": "Python 3",
   "language": "python",
   "name": "python3"
  },
  "language_info": {
   "codemirror_mode": {
    "name": "ipython",
    "version": 3
   },
   "file_extension": ".py",
   "mimetype": "text/x-python",
   "name": "python",
   "nbconvert_exporter": "python",
   "pygments_lexer": "ipython3",
   "version": "3.8.5"
  },
  "toc": {
   "base_numbering": 1,
   "nav_menu": {},
   "number_sections": true,
   "sideBar": true,
   "skip_h1_title": false,
   "title_cell": "Table of Contents",
   "title_sidebar": "Contents",
   "toc_cell": false,
   "toc_position": {},
   "toc_section_display": true,
   "toc_window_display": false
  }
 },
 "nbformat": 4,
 "nbformat_minor": 4
}
